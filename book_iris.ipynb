{
 "metadata": {
  "name": "",
  "signature": "sha256:9c79403db6d5cd9243f0c7e8e65220ff9df9c6fc53c0680442c6447929f861da"
 },
 "nbformat": 3,
 "nbformat_minor": 0,
 "worksheets": [
  {
   "cells": [
    {
     "cell_type": "code",
     "collapsed": false,
     "input": [
      "from sklearn import datasets\n",
      "import numpy as np\n",
      "\n",
      "iris = datasets.load_iris()\n"
     ],
     "language": "python",
     "metadata": {},
     "outputs": [],
     "prompt_number": 1
    },
    {
     "cell_type": "code",
     "collapsed": false,
     "input": [
      "X = iris.data[:, [2, 3]]\n",
      "y = iris.target"
     ],
     "language": "python",
     "metadata": {},
     "outputs": [],
     "prompt_number": 13
    },
    {
     "cell_type": "code",
     "collapsed": false,
     "input": [
      "from sklearn.cross_validation import train_test_split\n",
      "X_train, X_test, y_train, y_test = train_test_split(X, y, test_size=0.3, random_state=0)"
     ],
     "language": "python",
     "metadata": {},
     "outputs": [],
     "prompt_number": 15
    },
    {
     "cell_type": "code",
     "collapsed": false,
     "input": [
      "from sklearn.preprocessing import StandardScaler\n",
      "sc = StandardScaler()\n",
      "sc.fit(X_train)\n",
      "X_train_std = sc.transform(X_train)\n",
      "X_test_std = sc.transform(X_test)"
     ],
     "language": "python",
     "metadata": {},
     "outputs": [],
     "prompt_number": 18
    },
    {
     "cell_type": "code",
     "collapsed": false,
     "input": [
      "from sklearn.linear_model import Perceptron\n",
      "ppn = Perceptron(n_iter=40, eta0=0.1, random_state=0)\n",
      "ppn.fit(X_train_std, y_train)"
     ],
     "language": "python",
     "metadata": {},
     "outputs": [
      {
       "metadata": {},
       "output_type": "pyout",
       "prompt_number": 20,
       "text": [
        "Perceptron(alpha=0.0001, class_weight=None, eta0=0.1, fit_intercept=True,\n",
        "      n_iter=40, n_jobs=1, penalty=None, random_state=0, shuffle=True,\n",
        "      verbose=0, warm_start=False)"
       ]
      }
     ],
     "prompt_number": 20
    },
    {
     "cell_type": "code",
     "collapsed": false,
     "input": [
      "y_pred = ppn.predict(X_test_std)\n",
      "print('Misclassified samples: %d' % (y_test != y_pred).sum())"
     ],
     "language": "python",
     "metadata": {},
     "outputs": [
      {
       "output_type": "stream",
       "stream": "stdout",
       "text": [
        "Misclassified samples: 4\n"
       ]
      }
     ],
     "prompt_number": 22
    },
    {
     "cell_type": "code",
     "collapsed": false,
     "input": [
      "from sklearn.metrics import accuracy_score\n",
      "print('Accuracy: %.2f' % accuracy_score(y_test, y_pred))"
     ],
     "language": "python",
     "metadata": {},
     "outputs": [
      {
       "output_type": "stream",
       "stream": "stdout",
       "text": [
        "Accuracy: 0.91\n"
       ]
      }
     ],
     "prompt_number": 23
    },
    {
     "cell_type": "code",
     "collapsed": false,
     "input": [
      "from sklearn.linear_model import LogisticRegression\n",
      "lr = LogisticRegression(C=1000.0, random_state=0)\n",
      "lr.fit(X_train_std, y_train)\n",
      "y_pred = lr.predict(X_test_std)\n",
      "print('Accuracy: %.2f' % accuracy_score(y_test, y_pred))"
     ],
     "language": "python",
     "metadata": {},
     "outputs": [
      {
       "output_type": "stream",
       "stream": "stdout",
       "text": [
        "Accuracy: 0.98\n"
       ]
      }
     ],
     "prompt_number": 24
    },
    {
     "cell_type": "code",
     "collapsed": false,
     "input": [
      "weights, params = [], []\n",
      "for c in np.arange(-5,5):\n",
      "    lr = LogisticRegression(C=10**c, random_state=0)\n",
      "    lr.fit(X_train_std, y_train)\n",
      "    weights.append(lr.coef_[1])\n",
      "    params.append(10**c)\n",
      "    print('Accuracy: %.2f' % accuracy_score(y_test, lr.predict(X_test_std)))\n",
      "weights = np.array(weights)\n",
      "    \n",
      "import matplotlib.pyplot as plt\n",
      "%matplotlib inline\n",
      "plt.plot(params, weights[:,0])\n",
      "plt.plot(params, weights[:,1])\n",
      "plt.xscale('log')\n",
      "plt.show()\n"
     ],
     "language": "python",
     "metadata": {},
     "outputs": [
      {
       "output_type": "stream",
       "stream": "stdout",
       "text": [
        "Accuracy: 0.60\n",
        "Accuracy: 0.60\n",
        "Accuracy: 0.60\n",
        "Accuracy: 0.60\n",
        "Accuracy: 0.60\n",
        "Accuracy: 0.80\n",
        "Accuracy: 0.96\n",
        "Accuracy: 0.98\n",
        "Accuracy: 0.98\n",
        "Accuracy: 0.98\n"
       ]
      },
      {
       "metadata": {},
       "output_type": "display_data",
       "png": "[encoded data removed]",
       "text": [
        "<matplotlib.figure.Figure at 0x7f35e5e3bfd0>"
       ]
      }
     ],
     "prompt_number": 43
    },
    {
     "cell_type": "code",
     "collapsed": false,
     "input": [
      "from sklearn.svm import SVC\n",
      "svm = SVC(kernel='linear', C=1.0, random_state=0)\n",
      "svm.fit(X_train_std, y_train)\n",
      "y_pred = svm.predict(X_test_std)\n",
      "print('Accuracy: %.2f' % accuracy_score(y_test, y_pred))"
     ],
     "language": "python",
     "metadata": {},
     "outputs": [
      {
       "output_type": "stream",
       "stream": "stdout",
       "text": [
        "Accuracy: 0.98\n"
       ]
      }
     ],
     "prompt_number": 44
    },
    {
     "cell_type": "code",
     "collapsed": false,
     "input": [],
     "language": "python",
     "metadata": {},
     "outputs": []
    }
   ],
   "metadata": {}
  }
 ]
}
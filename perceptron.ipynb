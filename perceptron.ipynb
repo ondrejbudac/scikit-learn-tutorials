{
 "metadata": {
  "name": "",
  "signature": "sha256:6a236a8c975a5b882341c93f22d9a1b5c4f685e01be14433cc20b3caa8691a3f"
 },
 "nbformat": 3,
 "nbformat_minor": 0,
 "worksheets": [
  {
   "cells": [
    {
     "cell_type": "markdown",
     "metadata": {},
     "source": [
      "This is a perceptron example from the book *Python machine learning*"
     ]
    },
    {
     "cell_type": "code",
     "collapsed": false,
     "input": [
      "import numpy as np\n",
      "class Perceptron(object):\n",
      "    \"\"\"Perceptron classifier\n",
      "    \n",
      "    Parameters:\n",
      "    -----------\n",
      "    eta : float\n",
      "        learning rate in interval (0.0, 1.1)\n",
      "    n_iter : int\n",
      "        number of iterations\n",
      "        \n",
      "    Attributes:\n",
      "    -----------\n",
      "    w_ : 1d-array\n",
      "        weights after fitting\n",
      "    errors_ : list\n",
      "        number of missclassifications in every epoch\n",
      "    \"\"\"\n",
      "    \n",
      "    def __init__(self, eta=0.01, n_iter=10):\n",
      "        self.eta = eta\n",
      "        self.n_iter = n_iter\n",
      "        \n",
      "    def fit(self, X, y):\n",
      "        \"\"\"Fit training data\n",
      "        \n",
      "        Parameters:\n",
      "        -----------\n",
      "        X : {array-like}, shape = [n_samples, n_features]\n",
      "            training vectors\n",
      "        y : {array-like}, shape = [n_samples]\n",
      "            target values\n",
      "            \n",
      "        Returns:\n",
      "        --------\n",
      "        self : object\n",
      "        \"\"\"\n",
      "        self.w_ = np.zeros(1 + X.shape[1])\n",
      "        self.errors_ = []\n",
      "        \n",
      "        for _ in range(self.n_iter):\n",
      "            errors = 0\n",
      "            for xi, target in zip(X, y):\n",
      "                update = self.eta * (target - self.predict(xi))\n",
      "                self.w_[1:] += update * xi\n",
      "                self.w_[0] += update\n",
      "                errors += int(update != 0.0)\n",
      "            self.errors_.append(errors)\n",
      "        return self\n",
      "    \n",
      "    def net_input(self, X):\n",
      "        \"\"\"Calclulate net input\"\"\"\n",
      "        return np.dot(X, self.w_[1:]) + self.w_[0]\n",
      "    \n",
      "    def predict(self, X):\n",
      "        \"\"\"Return class label after unit step\"\"\"\n",
      "        return np.where(self.net_input(X) >= 0.0, 1, -1)"
     ],
     "language": "python",
     "metadata": {},
     "outputs": [],
     "prompt_number": 1
    },
    {
     "cell_type": "code",
     "collapsed": false,
     "input": [
      "import pandas as pd\n",
      "df = pd.read_csv('https://archive.ics.uci.edu/ml/'\n",
      "                 'machine-learning-databases/iris/iris.data', header=None)"
     ],
     "language": "python",
     "metadata": {},
     "outputs": [],
     "prompt_number": 5
    },
    {
     "cell_type": "code",
     "collapsed": false,
     "input": [
      "import matplotlib.pyplot as plt\n",
      "%matplotlib inline\n",
      "\n",
      "y = df.iloc[0:100, 4].values\n",
      "y = np.where(y == 'Iris-setosa', -1, 1)\n",
      "X = df.iloc[0:100, [0, 2]].values\n",
      "plt.scatter(X[:50, 0], X[:50, 1], color='red', marker='o', label='setosa')\n",
      "plt.scatter(X[50:100, 0], X[50:100, 1], color='blue', marker='x', label='versicolor')\n",
      "plt.xlabel('petal length')\n",
      "plt.ylabel('sepal length')\n",
      "plt.legend(loc='upper left')\n"
     ],
     "language": "python",
     "metadata": {},
     "outputs": [
      {
       "metadata": {},
       "output_type": "pyout",
       "prompt_number": 8,
       "text": [
        "<matplotlib.legend.Legend at 0x7f3a624e0278>"
       ]
      },
      {
       "metadata": {},
       "output_type": "display_data",
       "png": "[encoded data removed]",
       "text": [
        "<matplotlib.figure.Figure at 0x7f3a624798d0>"
       ]
      }
     ],
     "prompt_number": 8
    },
    {
     "cell_type": "code",
     "collapsed": false,
     "input": [
      "ppn = Perceptron(eta=0.1, n_iter=10)\n",
      "ppn.fit(X, y)\n",
      "plt.plot(range(1, len(ppn.errors_) + 1), ppn.errors_, marker='o')\n",
      "plt.xlabel('Epochs')\n",
      "plt.ylabel('Number of misclassified items')"
     ],
     "language": "python",
     "metadata": {},
     "outputs": [
      {
       "metadata": {},
       "output_type": "pyout",
       "prompt_number": 10,
       "text": [
        "<matplotlib.text.Text at 0x7f3a624f7ef0>"
       ]
      },
      {
       "metadata": {},
       "output_type": "display_data",
       "png": "[encoded data removed]",
       "text": [
        "<matplotlib.figure.Figure at 0x7f3a806e41d0>"
       ]
      }
     ],
     "prompt_number": 10
    },
    {
     "cell_type": "code",
     "collapsed": false,
     "input": [
      "from matplotlib.colors import ListedColormap\n",
      "\n",
      "def plot_decision_regions(X, y, classifier, resolution=0.02):\n",
      "        markers = ('s', 'x', 'o', '^', 'v')\n",
      "        colors = ('red', 'blue', 'lighgreen', 'gray', 'cyan')\n",
      "        cmap = ListedColormap(colors[:len(np.unique(y))])\n",
      "        \n",
      "        # plot the decision surface\n",
      "        x1_min, x1_max = X[:, 0].min() - 1, X[:, 0].max() + 1\n",
      "        x2_min, x2_max = X[:, 1].min() - 1, X[:, 1].max() + 1\n",
      "        xx1, xx2 = np.meshgrid(np.arange(x1_min, x1_max, resolution), np.arange(x2_min, x2_max, resolution))\n",
      "        Z = classifier.predict(np.array([xx1.ravel(), xx2.ravel()]).T)\n",
      "        Z = Z.reshape(xx1.shape)\n",
      "        \n",
      "        plt.contourf(xx1, xx2, Z, alpha=0.4, cmap=cmap)\n",
      "        plt.xlim(xx1.min(), xx1.max())\n",
      "        plt.ylim(xx2.min(), xx2.max())\n",
      "\n",
      "        # plot class samples\n",
      "        for idx, cl in enumerate(np.unique(y)):\n",
      "            plt.scatter(x=X[y == cl, 0], y=X[y == cl, 1], alpha=0.8, c=cmap(idx), marker=markers[idx], label=cl)"
     ],
     "language": "python",
     "metadata": {},
     "outputs": [],
     "prompt_number": 14
    },
    {
     "cell_type": "code",
     "collapsed": false,
     "input": [
      "plot_decision_regions(X, y, classifier=ppn)\n",
      "plt.xlabel('sepal length [cm]')\n",
      "plt.ylabel('petal length [cm]')\n",
      "plt.legend(loc='upper left')"
     ],
     "language": "python",
     "metadata": {},
     "outputs": [
      {
       "metadata": {},
       "output_type": "pyout",
       "prompt_number": 18,
       "text": [
        "<matplotlib.legend.Legend at 0x7f3a6a8bc748>"
       ]
      },
      {
       "metadata": {},
       "output_type": "display_data",
       "png": "[encoded data removed]",
       "text": [
        "<matplotlib.figure.Figure at 0x7f3a6a8c3668>"
       ]
      }
     ],
     "prompt_number": 18
    },
    {
     "cell_type": "code",
     "collapsed": false,
     "input": [
      "ppn.w_"
     ],
     "language": "python",
     "metadata": {},
     "outputs": [
      {
       "metadata": {},
       "output_type": "pyout",
       "prompt_number": 17,
       "text": [
        "array([-0.4 , -0.68,  1.82])"
       ]
      }
     ],
     "prompt_number": 17
    },
    {
     "cell_type": "code",
     "collapsed": false,
     "input": [],
     "language": "python",
     "metadata": {},
     "outputs": []
    }
   ],
   "metadata": {}
  }
 ]
}